{
 "cells": [
  {
   "cell_type": "code",
   "execution_count": 12,
   "metadata": {},
   "outputs": [],
   "source": [
    "# import os\n",
    "# path = r\"C:\\Users\\32005\\Desktop\\手写数字\\9\"\n",
    "\n",
    "# files = os.listdir(path)#原来文件夹的路径\n",
    "# i = 0\n",
    "\n",
    "# for file in files:\n",
    "#     original = r\"C:\\Users\\32005\\Desktop\\手写数字\\9\" + os.sep + files[i]\n",
    "#     #修改后放置图片的路径 F:/ns，也可将 img_ 换成其他标注\n",
    "#     new = r\"C:\\Users\\32005\\Desktop\\手写数字\\9\" + os.sep + \"j\" + str(i + 1) + \"_label_9.jpg\"\n",
    "#     os.rename(original, new)\n",
    "#     i += 1"
   ]
  },
  {
   "cell_type": "markdown",
   "metadata": {
    "toc": true
   },
   "source": [
    "<h1>Table of Contents<span class=\"tocSkip\"></span></h1>\n",
    "<div class=\"toc\"><ul class=\"toc-item\"><li><span><a href=\"#数据预处理\" data-toc-modified-id=\"数据预处理-1\"><span class=\"toc-item-num\">1&nbsp;&nbsp;</span>数据预处理</a></span><ul class=\"toc-item\"><li><span><a href=\"#opencv读取图片文件\" data-toc-modified-id=\"opencv读取图片文件-1.1\"><span class=\"toc-item-num\">1.1&nbsp;&nbsp;</span>opencv读取图片文件</a></span></li></ul></li><li><span><a href=\"#建立模型\" data-toc-modified-id=\"建立模型-2\"><span class=\"toc-item-num\">2&nbsp;&nbsp;</span>建立模型</a></span></li><li><span><a href=\"#进行训练\" data-toc-modified-id=\"进行训练-3\"><span class=\"toc-item-num\">3&nbsp;&nbsp;</span>进行训练</a></span></li><li><span><a href=\"#模型准确性\" data-toc-modified-id=\"模型准确性-4\"><span class=\"toc-item-num\">4&nbsp;&nbsp;</span>模型准确性</a></span></li><li><span><a href=\"#进行预测\" data-toc-modified-id=\"进行预测-5\"><span class=\"toc-item-num\">5&nbsp;&nbsp;</span>进行预测</a></span></li></ul></div>"
   ]
  },
  {
   "cell_type": "code",
   "execution_count": 14,
   "metadata": {},
   "outputs": [],
   "source": [
    "import numpy as np\n",
    "import matplotlib.pyplot as plt\n",
    "import pandas as pd\n",
    "\n",
    "# 支持多行输出\n",
    "from IPython.core.interactiveshell import InteractiveShell \n",
    "InteractiveShell.ast_node_interactivity = 'all' #默认为'last'"
   ]
  },
  {
   "cell_type": "markdown",
   "metadata": {},
   "source": [
    "#   数据预处理"
   ]
  },
  {
   "cell_type": "markdown",
   "metadata": {},
   "source": [
    "## opencv读取图片文件"
   ]
  },
  {
   "cell_type": "code",
   "execution_count": 15,
   "metadata": {},
   "outputs": [],
   "source": [
    "import cv2\n",
    "import numpy as np\n",
    "import os\n",
    "\n",
    "df = pd.read_csv('label.txt',header=None, sep=' ',index_col=0,names=['filename','num'])\n",
    "label = df.to_dict('index')\n",
    "\n",
    "baseDir = \"imgdata\"  # 读取文件的路径\n",
    "filenames = os.listdir(baseDir)\n",
    "imgdata = cv2.imread('imgdata/' + list(label.keys())[0], flags=1)\n",
    "imgdata = cv2.resize(imgdata, (64, 64))\n",
    "imgdata = imgdata.reshape(1,64,64,3)\n",
    "\n",
    "#定义标签列表\n",
    "y_train = []\n",
    "for i in label:\n",
    "    y_train.append(label[i].get('num'))\n",
    "    if i != list(label.keys())[0]:\n",
    "        imgfile = 'imgdata/' + i\n",
    "        tmp_img = cv2.imread(imgfile, flags=1)\n",
    "        tmp_img = cv2.resize(tmp_img, (64, 64))\n",
    "        tmp_img = tmp_img.reshape(1,64,64,3)\n",
    "        imgdata = np.concatenate((imgdata, tmp_img), axis=0)\n",
    "\n",
    "X_train = imgdata\n",
    "X_train_normalize = X_train.astype('float32') / 255.0\n",
    "\n",
    "y_train = np.array(y_train)"
   ]
  },
  {
   "cell_type": "code",
   "execution_count": 16,
   "metadata": {},
   "outputs": [
    {
     "data": {
      "text/plain": [
       "(100, 64, 64, 3)"
      ]
     },
     "execution_count": 16,
     "metadata": {},
     "output_type": "execute_result"
    },
    {
     "data": {
      "text/plain": [
       "(100,)"
      ]
     },
     "execution_count": 16,
     "metadata": {},
     "output_type": "execute_result"
    }
   ],
   "source": [
    "X_train.shape\n",
    "y_train.shape"
   ]
  },
  {
   "cell_type": "code",
   "execution_count": 17,
   "metadata": {},
   "outputs": [],
   "source": [
    "index = [i for i in range(len(X_train))]\n",
    "np.random.shuffle(index)\n",
    "X_train = X_train[index]\n",
    "y_train = y_train[index]"
   ]
  },
  {
   "cell_type": "markdown",
   "metadata": {},
   "source": [
    "# 建立模型"
   ]
  },
  {
   "cell_type": "code",
   "execution_count": 18,
   "metadata": {},
   "outputs": [
    {
     "name": "stdout",
     "output_type": "stream",
     "text": [
      "Model: \"sequential\"\n",
      "_________________________________________________________________\n",
      "Layer (type)                 Output Shape              Param #   \n",
      "=================================================================\n",
      "conv2d (Conv2D)              (None, 62, 62, 8)         224       \n",
      "_________________________________________________________________\n",
      "max_pooling2d (MaxPooling2D) (None, 31, 31, 8)         0         \n",
      "_________________________________________________________________\n",
      "conv2d_1 (Conv2D)            (None, 29, 29, 16)        1168      \n",
      "_________________________________________________________________\n",
      "max_pooling2d_1 (MaxPooling2 (None, 14, 14, 16)        0         \n",
      "_________________________________________________________________\n",
      "conv2d_2 (Conv2D)            (None, 12, 12, 32)        4640      \n",
      "_________________________________________________________________\n",
      "max_pooling2d_2 (MaxPooling2 (None, 6, 6, 32)          0         \n",
      "_________________________________________________________________\n",
      "flatten (Flatten)            (None, 1152)              0         \n",
      "_________________________________________________________________\n",
      "dense (Dense)                (None, 128)               147584    \n",
      "_________________________________________________________________\n",
      "dropout (Dropout)            (None, 128)               0         \n",
      "_________________________________________________________________\n",
      "dense_1 (Dense)              (None, 1)                 129       \n",
      "=================================================================\n",
      "Total params: 153,745\n",
      "Trainable params: 153,745\n",
      "Non-trainable params: 0\n",
      "_________________________________________________________________\n",
      "None\n"
     ]
    }
   ],
   "source": [
    "import tensorflow.keras as keras\n",
    "model = keras.models.Sequential()\n",
    "\n",
    "#卷积层1\n",
    "model.add(keras.layers.Conv2D(\n",
    "                 filters=8,    \n",
    "                 kernel_size=(3,3),\n",
    "                 input_shape=(64,64,3),            \n",
    "                 activation='relu')) # strides=(1, 1)是默认值\n",
    "#池化层1\n",
    "model.add(keras.layers.MaxPooling2D(pool_size=(2, 2)))\n",
    "\n",
    "#卷积层2\n",
    "model.add(keras.layers.Conv2D(\n",
    "                 filters=16,\n",
    "                 kernel_size=(3,3),\n",
    "                 activation='relu'))\n",
    "#池化层2\n",
    "model.add(keras.layers.MaxPooling2D(pool_size=(2, 2)))\n",
    "\n",
    "#卷积层3\n",
    "model.add(keras.layers.Conv2D(\n",
    "                 filters=32,\n",
    "                 kernel_size=(3,3),\n",
    "                 activation='relu'))\n",
    "#池化层3\n",
    "model.add(keras.layers.MaxPooling2D(pool_size=(2, 2)))\n",
    "\n",
    "#展平层\n",
    "model.add(keras.layers.Flatten())\n",
    "#全连接层1\n",
    "model.add(keras.layers.Dense(128, activation='relu'))\n",
    "#Dropout\n",
    "model.add(keras.layers.Dropout(0.5))\n",
    "#全连接层2\n",
    "model.add(keras.layers.Dense(1,activation='relu'))\n",
    "\n",
    "model.compile(loss='mse',\n",
    "              optimizer='adam',\n",
    "              metrics=['mse'])\n",
    "\n",
    "print(model.summary())"
   ]
  },
  {
   "cell_type": "markdown",
   "metadata": {},
   "source": [
    "# 进行训练"
   ]
  },
  {
   "cell_type": "code",
   "execution_count": 19,
   "metadata": {},
   "outputs": [
    {
     "name": "stdout",
     "output_type": "stream",
     "text": [
      "Epoch 1/100\n",
      "4/4 [==============================] - 0s 35ms/step - loss: 16.8760 - mse: 16.8760 - val_loss: 12.6424 - val_mse: 12.6424\n",
      "Epoch 2/100\n",
      "4/4 [==============================] - 0s 12ms/step - loss: 11.2971 - mse: 11.2971 - val_loss: 10.6667 - val_mse: 10.6667\n",
      "Epoch 3/100\n",
      "4/4 [==============================] - 0s 12ms/step - loss: 9.8854 - mse: 9.8854 - val_loss: 11.5882 - val_mse: 11.5882\n",
      "Epoch 4/100\n",
      "4/4 [==============================] - 0s 11ms/step - loss: 8.8910 - mse: 8.8910 - val_loss: 13.5784 - val_mse: 13.5784\n",
      "Epoch 5/100\n",
      "4/4 [==============================] - 0s 11ms/step - loss: 9.2110 - mse: 9.2110 - val_loss: 11.9056 - val_mse: 11.9056\n",
      "Epoch 6/100\n",
      "4/4 [==============================] - 0s 12ms/step - loss: 8.3364 - mse: 8.3364 - val_loss: 10.4180 - val_mse: 10.4180\n",
      "Epoch 7/100\n",
      "4/4 [==============================] - 0s 12ms/step - loss: 9.4427 - mse: 9.4427 - val_loss: 10.4127 - val_mse: 10.4127\n",
      "Epoch 8/100\n",
      "4/4 [==============================] - 0s 11ms/step - loss: 7.9247 - mse: 7.9247 - val_loss: 10.7530 - val_mse: 10.7530\n",
      "Epoch 9/100\n",
      "4/4 [==============================] - 0s 12ms/step - loss: 7.4043 - mse: 7.4043 - val_loss: 10.8180 - val_mse: 10.8180\n",
      "Epoch 10/100\n",
      "4/4 [==============================] - 0s 12ms/step - loss: 8.9344 - mse: 8.9344 - val_loss: 10.8885 - val_mse: 10.8885\n",
      "Epoch 11/100\n",
      "4/4 [==============================] - 0s 12ms/step - loss: 8.3129 - mse: 8.3129 - val_loss: 10.8060 - val_mse: 10.8060\n",
      "Epoch 12/100\n",
      "4/4 [==============================] - 0s 12ms/step - loss: 8.3536 - mse: 8.3536 - val_loss: 11.1015 - val_mse: 11.1015\n",
      "Epoch 13/100\n",
      "4/4 [==============================] - 0s 12ms/step - loss: 8.3891 - mse: 8.3891 - val_loss: 10.6336 - val_mse: 10.6336\n",
      "Epoch 14/100\n",
      "4/4 [==============================] - 0s 13ms/step - loss: 8.4118 - mse: 8.4118 - val_loss: 10.8358 - val_mse: 10.8358\n",
      "Epoch 15/100\n",
      "4/4 [==============================] - 0s 22ms/step - loss: 8.3170 - mse: 8.3170 - val_loss: 10.6083 - val_mse: 10.6083\n",
      "Epoch 16/100\n",
      "4/4 [==============================] - 0s 20ms/step - loss: 7.8825 - mse: 7.8825 - val_loss: 11.0200 - val_mse: 11.0200\n",
      "Epoch 17/100\n",
      "4/4 [==============================] - 0s 13ms/step - loss: 8.2897 - mse: 8.2897 - val_loss: 10.2693 - val_mse: 10.2693\n",
      "Epoch 18/100\n",
      "4/4 [==============================] - 0s 12ms/step - loss: 7.8324 - mse: 7.8324 - val_loss: 10.5535 - val_mse: 10.5535\n",
      "Epoch 19/100\n",
      "4/4 [==============================] - 0s 13ms/step - loss: 7.3454 - mse: 7.3454 - val_loss: 11.4656 - val_mse: 11.4656\n",
      "Epoch 20/100\n",
      "4/4 [==============================] - 0s 13ms/step - loss: 7.8826 - mse: 7.8826 - val_loss: 11.0944 - val_mse: 11.0944\n",
      "Epoch 21/100\n",
      "4/4 [==============================] - 0s 12ms/step - loss: 7.6965 - mse: 7.6965 - val_loss: 10.0341 - val_mse: 10.0341\n",
      "Epoch 22/100\n",
      "4/4 [==============================] - 0s 12ms/step - loss: 8.6378 - mse: 8.6378 - val_loss: 10.6035 - val_mse: 10.6035\n",
      "Epoch 23/100\n",
      "4/4 [==============================] - 0s 12ms/step - loss: 8.0239 - mse: 8.0239 - val_loss: 10.7886 - val_mse: 10.7886\n",
      "Epoch 24/100\n",
      "4/4 [==============================] - 0s 12ms/step - loss: 6.7725 - mse: 6.7725 - val_loss: 9.9124 - val_mse: 9.9124\n",
      "Epoch 25/100\n",
      "4/4 [==============================] - 0s 12ms/step - loss: 7.2783 - mse: 7.2783 - val_loss: 10.5410 - val_mse: 10.5410\n",
      "Epoch 26/100\n",
      "4/4 [==============================] - 0s 12ms/step - loss: 8.0798 - mse: 8.0798 - val_loss: 9.8536 - val_mse: 9.8536\n",
      "Epoch 27/100\n",
      "4/4 [==============================] - 0s 12ms/step - loss: 6.4106 - mse: 6.4106 - val_loss: 9.2886 - val_mse: 9.2886\n",
      "Epoch 28/100\n",
      "4/4 [==============================] - 0s 12ms/step - loss: 7.3966 - mse: 7.3966 - val_loss: 12.1618 - val_mse: 12.1618\n",
      "Epoch 29/100\n",
      "4/4 [==============================] - 0s 12ms/step - loss: 6.5603 - mse: 6.5603 - val_loss: 9.0427 - val_mse: 9.0427\n",
      "Epoch 30/100\n",
      "4/4 [==============================] - 0s 12ms/step - loss: 6.9570 - mse: 6.9570 - val_loss: 9.4355 - val_mse: 9.4355\n",
      "Epoch 31/100\n",
      "4/4 [==============================] - 0s 12ms/step - loss: 5.5462 - mse: 5.5462 - val_loss: 9.3000 - val_mse: 9.3000\n",
      "Epoch 32/100\n",
      "4/4 [==============================] - 0s 12ms/step - loss: 6.3979 - mse: 6.3979 - val_loss: 9.8699 - val_mse: 9.8699\n",
      "Epoch 33/100\n",
      "4/4 [==============================] - 0s 23ms/step - loss: 5.4054 - mse: 5.4054 - val_loss: 8.2756 - val_mse: 8.2756\n",
      "Epoch 34/100\n",
      "4/4 [==============================] - 0s 20ms/step - loss: 4.9275 - mse: 4.9275 - val_loss: 10.6027 - val_mse: 10.6027\n",
      "Epoch 35/100\n",
      "4/4 [==============================] - 0s 12ms/step - loss: 5.0294 - mse: 5.0294 - val_loss: 9.1970 - val_mse: 9.1970\n",
      "Epoch 36/100\n",
      "4/4 [==============================] - 0s 12ms/step - loss: 4.7660 - mse: 4.7660 - val_loss: 8.3867 - val_mse: 8.3867\n",
      "Epoch 37/100\n",
      "4/4 [==============================] - 0s 12ms/step - loss: 5.4787 - mse: 5.4787 - val_loss: 11.0175 - val_mse: 11.0175\n",
      "Epoch 38/100\n",
      "4/4 [==============================] - 0s 12ms/step - loss: 4.9038 - mse: 4.9038 - val_loss: 9.2830 - val_mse: 9.2830\n",
      "Epoch 39/100\n",
      "4/4 [==============================] - 0s 13ms/step - loss: 5.9209 - mse: 5.9209 - val_loss: 9.7211 - val_mse: 9.7211\n",
      "Epoch 40/100\n",
      "4/4 [==============================] - 0s 12ms/step - loss: 3.9971 - mse: 3.9971 - val_loss: 9.4932 - val_mse: 9.4932\n",
      "Epoch 41/100\n",
      "4/4 [==============================] - 0s 12ms/step - loss: 5.3650 - mse: 5.3650 - val_loss: 9.8818 - val_mse: 9.8818\n",
      "Epoch 42/100\n",
      "4/4 [==============================] - 0s 12ms/step - loss: 4.1638 - mse: 4.1638 - val_loss: 10.1395 - val_mse: 10.1395\n",
      "Epoch 43/100\n",
      "4/4 [==============================] - 0s 12ms/step - loss: 4.0534 - mse: 4.0534 - val_loss: 8.9506 - val_mse: 8.9506\n",
      "Epoch 44/100\n",
      "4/4 [==============================] - 0s 12ms/step - loss: 4.8447 - mse: 4.8447 - val_loss: 9.2196 - val_mse: 9.2196\n",
      "Epoch 45/100\n",
      "4/4 [==============================] - 0s 12ms/step - loss: 3.9111 - mse: 3.9111 - val_loss: 11.3567 - val_mse: 11.3567\n",
      "Epoch 46/100\n",
      "4/4 [==============================] - 0s 12ms/step - loss: 3.5627 - mse: 3.5627 - val_loss: 9.6199 - val_mse: 9.6199\n",
      "Epoch 47/100\n",
      "4/4 [==============================] - 0s 12ms/step - loss: 3.3243 - mse: 3.3243 - val_loss: 10.0023 - val_mse: 10.0023\n",
      "Epoch 48/100\n",
      "4/4 [==============================] - 0s 12ms/step - loss: 3.3811 - mse: 3.3811 - val_loss: 10.6474 - val_mse: 10.6474\n",
      "Epoch 49/100\n",
      "4/4 [==============================] - 0s 13ms/step - loss: 3.9446 - mse: 3.9446 - val_loss: 9.9558 - val_mse: 9.9558\n",
      "Epoch 50/100\n",
      "4/4 [==============================] - 0s 13ms/step - loss: 2.8531 - mse: 2.8531 - val_loss: 11.0830 - val_mse: 11.0830\n",
      "Epoch 51/100\n",
      "4/4 [==============================] - 0s 15ms/step - loss: 2.8762 - mse: 2.8762 - val_loss: 9.5647 - val_mse: 9.5647\n",
      "Epoch 52/100\n",
      "4/4 [==============================] - 0s 12ms/step - loss: 3.4192 - mse: 3.4192 - val_loss: 10.3922 - val_mse: 10.3922\n",
      "Epoch 53/100\n",
      "4/4 [==============================] - 0s 13ms/step - loss: 2.9963 - mse: 2.9963 - val_loss: 10.2082 - val_mse: 10.2082\n",
      "Epoch 54/100\n",
      "4/4 [==============================] - 0s 13ms/step - loss: 2.8135 - mse: 2.8135 - val_loss: 9.5083 - val_mse: 9.5083\n",
      "Epoch 55/100\n",
      "4/4 [==============================] - 0s 13ms/step - loss: 2.6502 - mse: 2.6502 - val_loss: 10.0539 - val_mse: 10.0539\n",
      "Epoch 56/100\n",
      "4/4 [==============================] - 0s 12ms/step - loss: 3.3405 - mse: 3.3405 - val_loss: 9.6824 - val_mse: 9.6824\n",
      "Epoch 57/100\n",
      "4/4 [==============================] - 0s 12ms/step - loss: 2.2692 - mse: 2.2692 - val_loss: 11.2823 - val_mse: 11.2823\n",
      "Epoch 58/100\n",
      "4/4 [==============================] - 0s 12ms/step - loss: 2.5194 - mse: 2.5194 - val_loss: 9.8054 - val_mse: 9.8054\n",
      "Epoch 59/100\n",
      "4/4 [==============================] - 0s 13ms/step - loss: 2.5292 - mse: 2.5292 - val_loss: 9.8134 - val_mse: 9.8134\n",
      "Epoch 60/100\n",
      "4/4 [==============================] - 0s 12ms/step - loss: 2.4255 - mse: 2.4255 - val_loss: 10.8170 - val_mse: 10.8170\n",
      "Epoch 61/100\n",
      "4/4 [==============================] - 0s 12ms/step - loss: 2.4796 - mse: 2.4796 - val_loss: 10.2024 - val_mse: 10.2024\n",
      "Epoch 62/100\n",
      "4/4 [==============================] - 0s 12ms/step - loss: 1.6916 - mse: 1.6916 - val_loss: 10.1253 - val_mse: 10.1253\n"
     ]
    },
    {
     "name": "stdout",
     "output_type": "stream",
     "text": [
      "Epoch 63/100\n",
      "4/4 [==============================] - 0s 13ms/step - loss: 1.6405 - mse: 1.6405 - val_loss: 10.9077 - val_mse: 10.9077\n",
      "Epoch 64/100\n",
      "4/4 [==============================] - 0s 12ms/step - loss: 1.8805 - mse: 1.8805 - val_loss: 10.1204 - val_mse: 10.1204\n",
      "Epoch 65/100\n",
      "4/4 [==============================] - 0s 12ms/step - loss: 1.6883 - mse: 1.6883 - val_loss: 9.7582 - val_mse: 9.7582\n",
      "Epoch 66/100\n",
      "4/4 [==============================] - 0s 14ms/step - loss: 1.9534 - mse: 1.9534 - val_loss: 11.1845 - val_mse: 11.1845\n",
      "Epoch 67/100\n",
      "4/4 [==============================] - 0s 13ms/step - loss: 2.0351 - mse: 2.0351 - val_loss: 9.6378 - val_mse: 9.6378\n",
      "Epoch 68/100\n",
      "4/4 [==============================] - 0s 13ms/step - loss: 2.3255 - mse: 2.3255 - val_loss: 10.7589 - val_mse: 10.7589\n",
      "Epoch 69/100\n",
      "4/4 [==============================] - 0s 14ms/step - loss: 1.4776 - mse: 1.4776 - val_loss: 10.1656 - val_mse: 10.1656\n",
      "Epoch 70/100\n",
      "4/4 [==============================] - 0s 13ms/step - loss: 1.5886 - mse: 1.5886 - val_loss: 10.0516 - val_mse: 10.0516\n",
      "Epoch 71/100\n",
      "4/4 [==============================] - 0s 12ms/step - loss: 1.7117 - mse: 1.7117 - val_loss: 10.8496 - val_mse: 10.8496\n",
      "Epoch 72/100\n",
      "4/4 [==============================] - 0s 13ms/step - loss: 1.9165 - mse: 1.9165 - val_loss: 9.6743 - val_mse: 9.6743\n",
      "Epoch 73/100\n",
      "4/4 [==============================] - 0s 13ms/step - loss: 1.5218 - mse: 1.5218 - val_loss: 10.1107 - val_mse: 10.1107\n",
      "Epoch 74/100\n",
      "4/4 [==============================] - 0s 13ms/step - loss: 1.6250 - mse: 1.6250 - val_loss: 9.8311 - val_mse: 9.8311\n",
      "Epoch 75/100\n",
      "4/4 [==============================] - 0s 14ms/step - loss: 1.4565 - mse: 1.4565 - val_loss: 9.7922 - val_mse: 9.7922\n",
      "Epoch 76/100\n",
      "4/4 [==============================] - 0s 12ms/step - loss: 1.2022 - mse: 1.2022 - val_loss: 10.2197 - val_mse: 10.2197\n",
      "Epoch 77/100\n",
      "4/4 [==============================] - 0s 12ms/step - loss: 1.3312 - mse: 1.3312 - val_loss: 10.2414 - val_mse: 10.2414\n",
      "Epoch 78/100\n",
      "4/4 [==============================] - 0s 13ms/step - loss: 1.0570 - mse: 1.0570 - val_loss: 10.3937 - val_mse: 10.3937\n",
      "Epoch 79/100\n",
      "4/4 [==============================] - 0s 14ms/step - loss: 1.2218 - mse: 1.2218 - val_loss: 10.2766 - val_mse: 10.2766\n",
      "Epoch 80/100\n",
      "4/4 [==============================] - 0s 13ms/step - loss: 1.0116 - mse: 1.0116 - val_loss: 11.3426 - val_mse: 11.3426\n",
      "Epoch 81/100\n",
      "4/4 [==============================] - 0s 12ms/step - loss: 1.0719 - mse: 1.0719 - val_loss: 10.5549 - val_mse: 10.5549\n",
      "Epoch 82/100\n",
      "4/4 [==============================] - 0s 12ms/step - loss: 0.7874 - mse: 0.7874 - val_loss: 10.4719 - val_mse: 10.4719\n",
      "Epoch 83/100\n",
      "4/4 [==============================] - 0s 12ms/step - loss: 0.9965 - mse: 0.9965 - val_loss: 10.3549 - val_mse: 10.3549\n",
      "Epoch 84/100\n",
      "4/4 [==============================] - 0s 13ms/step - loss: 1.1540 - mse: 1.1540 - val_loss: 9.8874 - val_mse: 9.8874\n",
      "Epoch 85/100\n",
      "4/4 [==============================] - 0s 13ms/step - loss: 1.0562 - mse: 1.0562 - val_loss: 9.9388 - val_mse: 9.9388\n",
      "Epoch 86/100\n",
      "4/4 [==============================] - 0s 12ms/step - loss: 1.1556 - mse: 1.1556 - val_loss: 10.3165 - val_mse: 10.3165\n",
      "Epoch 87/100\n",
      "4/4 [==============================] - 0s 12ms/step - loss: 1.2039 - mse: 1.2039 - val_loss: 10.7298 - val_mse: 10.7298\n",
      "Epoch 88/100\n",
      "4/4 [==============================] - 0s 12ms/step - loss: 1.0138 - mse: 1.0138 - val_loss: 10.6970 - val_mse: 10.6970\n",
      "Epoch 89/100\n",
      "4/4 [==============================] - 0s 13ms/step - loss: 1.1201 - mse: 1.1201 - val_loss: 10.9483 - val_mse: 10.9483\n",
      "Epoch 90/100\n",
      "4/4 [==============================] - 0s 14ms/step - loss: 0.9856 - mse: 0.9856 - val_loss: 10.7129 - val_mse: 10.7129\n",
      "Epoch 91/100\n",
      "4/4 [==============================] - 0s 13ms/step - loss: 1.0067 - mse: 1.0067 - val_loss: 11.0756 - val_mse: 11.0756\n",
      "Epoch 92/100\n",
      "4/4 [==============================] - 0s 13ms/step - loss: 0.9751 - mse: 0.9751 - val_loss: 10.7610 - val_mse: 10.7610\n",
      "Epoch 93/100\n",
      "4/4 [==============================] - 0s 12ms/step - loss: 0.9349 - mse: 0.9349 - val_loss: 11.8804 - val_mse: 11.8804\n",
      "Epoch 94/100\n",
      "4/4 [==============================] - 0s 12ms/step - loss: 0.8833 - mse: 0.8833 - val_loss: 10.7222 - val_mse: 10.7222\n",
      "Epoch 95/100\n",
      "4/4 [==============================] - 0s 13ms/step - loss: 1.3997 - mse: 1.3997 - val_loss: 10.1201 - val_mse: 10.1201\n",
      "Epoch 96/100\n",
      "4/4 [==============================] - 0s 13ms/step - loss: 1.2668 - mse: 1.2668 - val_loss: 11.4040 - val_mse: 11.4040\n",
      "Epoch 97/100\n",
      "4/4 [==============================] - 0s 13ms/step - loss: 0.8383 - mse: 0.8383 - val_loss: 10.3994 - val_mse: 10.3994\n",
      "Epoch 98/100\n",
      "4/4 [==============================] - 0s 12ms/step - loss: 1.3105 - mse: 1.3105 - val_loss: 11.4238 - val_mse: 11.4238\n",
      "Epoch 99/100\n",
      "4/4 [==============================] - 0s 12ms/step - loss: 1.1128 - mse: 1.1128 - val_loss: 10.8345 - val_mse: 10.8345\n",
      "Epoch 100/100\n",
      "4/4 [==============================] - 0s 13ms/step - loss: 1.2616 - mse: 1.2616 - val_loss: 10.8602 - val_mse: 10.8602\n"
     ]
    }
   ],
   "source": [
    "train_history = model.fit(\n",
    "                        x=X_train_normalize, \n",
    "                        y=y_train,\n",
    "                        validation_split=0.2, \n",
    "                        epochs=100, \n",
    "                        batch_size=20,\n",
    "                        verbose=1\n",
    "                        )"
   ]
  },
  {
   "cell_type": "markdown",
   "metadata": {},
   "source": [
    "# 模型准确性"
   ]
  },
  {
   "cell_type": "code",
   "execution_count": 21,
   "metadata": {},
   "outputs": [
    {
     "name": "stdout",
     "output_type": "stream",
     "text": [
      "4/4 [==============================] - 0s 3ms/step - loss: 2.4492 - mse: 2.4492\n"
     ]
    },
    {
     "data": {
      "text/plain": [
       "2.449223518371582"
      ]
     },
     "execution_count": 21,
     "metadata": {},
     "output_type": "execute_result"
    }
   ],
   "source": [
    "scores = model.evaluate(X_train_normalize, y_train)\n",
    "scores[1]"
   ]
  },
  {
   "cell_type": "markdown",
   "metadata": {},
   "source": [
    "# 进行预测"
   ]
  },
  {
   "cell_type": "code",
   "execution_count": 31,
   "metadata": {},
   "outputs": [
    {
     "name": "stdout",
     "output_type": "stream",
     "text": [
      "[5.758824]\n",
      "预测的数字是：6\n"
     ]
    }
   ],
   "source": [
    "import cv2\n",
    "import numpy as np\n",
    "imgdata_src = cv2.imread('0/j8_label_0.jpg', flags=1)\n",
    "imgdata_resized = cv2.resize(imgdata_src, (64, 64))\n",
    "imgdata = imgdata_resized.reshape(64,64,3)\n",
    "imgdata_4D = imgdata.reshape(1,64,64,3)\n",
    "imgdata_4D = imgdata_4D/255\n",
    "\n",
    "\n",
    "result_arry = model.predict(imgdata_4D)[0]\n",
    "result = round(result_arry[0])\n",
    "\n",
    "print(result_arry)\n",
    "print(\"预测的数字是：\" + str(result))"
   ]
  },
  {
   "cell_type": "code",
   "execution_count": 23,
   "metadata": {},
   "outputs": [
    {
     "name": "stdout",
     "output_type": "stream",
     "text": [
      "[2.6901698]\n",
      "预测的数字是：3\n"
     ]
    }
   ],
   "source": [
    "import cv2\n",
    "import numpy as np\n",
    "imgdata_src = cv2.imread('5/j1_label_5.jpg', flags=1)\n",
    "imgdata_resized = cv2.resize(imgdata_src, (64, 64))\n",
    "imgdata = imgdata_resized.reshape(64,64,3)\n",
    "imgdata_4D = imgdata.reshape(1,64,64,3)\n",
    "imgdata_4D = imgdata_4D/255\n",
    "\n",
    "\n",
    "result_arry = model.predict(imgdata_4D)[0]\n",
    "result = round(result_arry[0])\n",
    "\n",
    "print(result_arry)\n",
    "print(\"预测的数字是：\" + str(result))"
   ]
  },
  {
   "cell_type": "code",
   "execution_count": 35,
   "metadata": {},
   "outputs": [
    {
     "name": "stdout",
     "output_type": "stream",
     "text": [
      "[3.4398963]\n",
      "预测的数字是：3\n"
     ]
    }
   ],
   "source": [
    "import cv2\n",
    "import numpy as np\n",
    "imgdata_src = cv2.imread('7/j_label_7.jpg', flags=1)\n",
    "imgdata_resized = cv2.resize(imgdata_src, (64, 64))\n",
    "imgdata = imgdata_resized.reshape(64,64,3)\n",
    "imgdata_4D = imgdata.reshape(1,64,64,3)\n",
    "imgdata_4D = imgdata_4D/255\n",
    "\n",
    "\n",
    "result_arry = model.predict(imgdata_4D)[0]\n",
    "result = round(result_arry[0])\n",
    "\n",
    "print(result_arry)\n",
    "print(\"预测的数字是：\" + str(result))"
   ]
  },
  {
   "cell_type": "code",
   "execution_count": null,
   "metadata": {},
   "outputs": [],
   "source": []
  },
  {
   "cell_type": "code",
   "execution_count": null,
   "metadata": {},
   "outputs": [],
   "source": []
  },
  {
   "cell_type": "code",
   "execution_count": null,
   "metadata": {},
   "outputs": [],
   "source": []
  }
 ],
 "metadata": {
  "kernelspec": {
   "display_name": "Python 3",
   "language": "python",
   "name": "python3"
  },
  "language_info": {
   "codemirror_mode": {
    "name": "ipython",
    "version": 3
   },
   "file_extension": ".py",
   "mimetype": "text/x-python",
   "name": "python",
   "nbconvert_exporter": "python",
   "pygments_lexer": "ipython3",
   "version": "3.6.5"
  },
  "toc": {
   "base_numbering": 1,
   "nav_menu": {},
   "number_sections": true,
   "sideBar": true,
   "skip_h1_title": false,
   "title_cell": "Table of Contents",
   "title_sidebar": "Contents",
   "toc_cell": true,
   "toc_position": {
    "height": "calc(100% - 180px)",
    "left": "10px",
    "top": "150px",
    "width": "307px"
   },
   "toc_section_display": true,
   "toc_window_display": true
  }
 },
 "nbformat": 4,
 "nbformat_minor": 2
}
